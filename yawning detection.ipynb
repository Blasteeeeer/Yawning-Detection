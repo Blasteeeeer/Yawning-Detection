{
 "cells": [
  {
   "cell_type": "code",
   "execution_count": 1,
   "id": "771396db",
   "metadata": {},
   "outputs": [],
   "source": [
    "import cv2 as cv\n",
    "import numpy as np\n",
    "import dlib\n",
    "\n",
    "face_detector = dlib.get_frontal_face_detector()\n",
    "landmark_detector = dlib.shape_predictor(\"shape_predictor_68_face_landmarks.dat\")"
   ]
  },
  {
   "cell_type": "code",
   "execution_count": 7,
   "id": "49db9f9c",
   "metadata": {},
   "outputs": [
    {
     "name": "stdout",
     "output_type": "stream",
     "text": [
      "Yawning!\n",
      "Yawning!\n",
      "Yawning!\n",
      "Yawning!\n",
      "Yawning!\n",
      "Yawning!\n",
      "Yawning!\n",
      "Yawning!\n",
      "Yawning!\n",
      "Yawning!\n",
      "Yawning!\n",
      "Yawning!\n",
      "Yawning!\n",
      "Yawning!\n",
      "Yawning!\n",
      "Yawning!\n",
      "Yawning!\n",
      "Yawning!\n",
      "Yawning!\n",
      "Yawning!\n",
      "Yawning!\n",
      "Yawning!\n",
      "Yawning!\n",
      "Yawning!\n",
      "Yawning!\n",
      "Yawning!\n",
      "Yawning!\n",
      "Yawning!\n",
      "Yawning!\n",
      "Yawning!\n",
      "Yawning!\n"
     ]
    }
   ],
   "source": [
    "camera = cv.VideoCapture(0)\n",
    "counter = 0\n",
    "\n",
    "while True:\n",
    "    _, frame = camera.read()\n",
    "    frame = cv.flip(frame,1)\n",
    "    \n",
    "    gray = cv.cvtColor(frame, cv.COLOR_BGR2GRAY)\n",
    "    faces = face_detector(gray)\n",
    "    \n",
    "    for face in faces:\n",
    "        landmarks = landmark_detector(gray,face)\n",
    "\n",
    "        upperLip_x = int(landmarks.part(62).x)\n",
    "        upperLip_y = int(landmarks.part(62).y)\n",
    "\n",
    "        lowerLip_x = int(landmarks.part(57).x)\n",
    "        lowerLip_y = int(landmarks.part(57).y)\n",
    "\n",
    "        diffHigth = lowerLip_y - upperLip_y\n",
    "\n",
    "       # print(\"higth \",diffHigth)\n",
    "\n",
    "        leftLip_x = int(landmarks.part(60).x)\n",
    "        leftLip_y = int(landmarks.part(60).y)\n",
    "\n",
    "        rigthLip_x = int(landmarks.part(64).x)\n",
    "        rigthLip_y = int(landmarks.part(64).y)\n",
    "\n",
    "        diffWidth = rigthLip_x - leftLip_x\n",
    "      #  print(\"width \",diffWidth)\n",
    "      #  print(\"ratio\",diffWidth/diffHigth)\n",
    "      #  print(\"\")\n",
    "\n",
    "        if(diffWidth/diffHigth < 2):\n",
    "            counter += 1\n",
    "        else:\n",
    "            counter = 0\n",
    "\n",
    "        if(counter > 10):\n",
    "            print(\"Yawning!\")\n",
    "\n",
    "\n",
    "        cv.circle(frame, (upperLip_x, upperLip_y), 5, (255,0,0), -1)\n",
    "        cv.circle(frame, (lowerLip_x, lowerLip_y), 5, (255,0,0), -1)\n",
    "\n",
    "        cv.circle(frame, (leftLip_x, leftLip_y), 5, (0,0,255), -1)\n",
    "        cv.circle(frame, (rigthLip_x, rigthLip_y), 5, (0,0,255), -1)\n",
    "\n",
    "        cv.imshow(\"WEBCAM\", frame)\n",
    "\n",
    "    key = cv.waitKey(20)\n",
    "    if key == 27:\n",
    "        break\n",
    "camera.release()\n",
    "cv.destroyAllWindows()"
   ]
  },
  {
   "cell_type": "code",
   "execution_count": 3,
   "id": "4ec91380",
   "metadata": {},
   "outputs": [],
   "source": [
    "camera.release()"
   ]
  }
 ],
 "metadata": {
  "kernelspec": {
   "display_name": "Python 3 (ipykernel)",
   "language": "python",
   "name": "python3"
  },
  "language_info": {
   "codemirror_mode": {
    "name": "ipython",
    "version": 3
   },
   "file_extension": ".py",
   "mimetype": "text/x-python",
   "name": "python",
   "nbconvert_exporter": "python",
   "pygments_lexer": "ipython3",
   "version": "3.9.7"
  }
 },
 "nbformat": 4,
 "nbformat_minor": 5
}
